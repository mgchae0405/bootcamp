{
 "cells": [
  {
   "cell_type": "markdown",
   "metadata": {},
   "source": [
    "# 개인프로젝트 1"
   ]
  },
  {
   "cell_type": "markdown",
   "metadata": {},
   "source": [
    "## 다음 분기에 어떤 게임을 설계해야 할까?"
   ]
  },
  {
   "cell_type": "markdown",
   "metadata": {},
   "source": [
    "#### 매출액과 나머지 피쳐들을 비교하여 어느 지역에 무슨 게임을 개발하면 좋을지에 대해서 판단해볼 예정"
   ]
  },
  {
   "cell_type": "markdown",
   "metadata": {},
   "source": [
    "---"
   ]
  },
  {
   "cell_type": "markdown",
   "metadata": {},
   "source": [
    "# 데이터 불러오기 및 전처리"
   ]
  },
  {
   "cell_type": "code",
   "execution_count": 1,
   "metadata": {},
   "outputs": [],
   "source": [
    "import pandas as pd\n",
    "import numpy as np\n",
    "import matplotlib.pyplot as plt"
   ]
  },
  {
   "cell_type": "code",
   "execution_count": 2,
   "metadata": {},
   "outputs": [
    {
     "data": {
      "text/html": [
       "<div>\n",
       "<style scoped>\n",
       "    .dataframe tbody tr th:only-of-type {\n",
       "        vertical-align: middle;\n",
       "    }\n",
       "\n",
       "    .dataframe tbody tr th {\n",
       "        vertical-align: top;\n",
       "    }\n",
       "\n",
       "    .dataframe thead th {\n",
       "        text-align: right;\n",
       "    }\n",
       "</style>\n",
       "<table border=\"1\" class=\"dataframe\">\n",
       "  <thead>\n",
       "    <tr style=\"text-align: right;\">\n",
       "      <th></th>\n",
       "      <th>Unnamed: 0</th>\n",
       "      <th>Name</th>\n",
       "      <th>Platform</th>\n",
       "      <th>Year</th>\n",
       "      <th>Genre</th>\n",
       "      <th>Publisher</th>\n",
       "      <th>NA_Sales</th>\n",
       "      <th>EU_Sales</th>\n",
       "      <th>JP_Sales</th>\n",
       "      <th>Other_Sales</th>\n",
       "    </tr>\n",
       "  </thead>\n",
       "  <tbody>\n",
       "    <tr>\n",
       "      <th>0</th>\n",
       "      <td>1</td>\n",
       "      <td>Candace Kane's Candy Factory</td>\n",
       "      <td>DS</td>\n",
       "      <td>2008.0</td>\n",
       "      <td>Action</td>\n",
       "      <td>Destineer</td>\n",
       "      <td>0.04</td>\n",
       "      <td>0</td>\n",
       "      <td>0</td>\n",
       "      <td>0</td>\n",
       "    </tr>\n",
       "    <tr>\n",
       "      <th>1</th>\n",
       "      <td>2</td>\n",
       "      <td>The Munchables</td>\n",
       "      <td>Wii</td>\n",
       "      <td>2009.0</td>\n",
       "      <td>Action</td>\n",
       "      <td>Namco Bandai Games</td>\n",
       "      <td>0.17</td>\n",
       "      <td>0</td>\n",
       "      <td>0</td>\n",
       "      <td>0.01</td>\n",
       "    </tr>\n",
       "    <tr>\n",
       "      <th>2</th>\n",
       "      <td>3</td>\n",
       "      <td>Otome wa Oanesama Boku ni Koi Shiteru Portable</td>\n",
       "      <td>PSP</td>\n",
       "      <td>2010.0</td>\n",
       "      <td>Adventure</td>\n",
       "      <td>Alchemist</td>\n",
       "      <td>0</td>\n",
       "      <td>0</td>\n",
       "      <td>0.02</td>\n",
       "      <td>0</td>\n",
       "    </tr>\n",
       "    <tr>\n",
       "      <th>3</th>\n",
       "      <td>4</td>\n",
       "      <td>Deal or No Deal: Special Edition</td>\n",
       "      <td>DS</td>\n",
       "      <td>2010.0</td>\n",
       "      <td>Misc</td>\n",
       "      <td>Zoo Games</td>\n",
       "      <td>0.04</td>\n",
       "      <td>0</td>\n",
       "      <td>0</td>\n",
       "      <td>0</td>\n",
       "    </tr>\n",
       "    <tr>\n",
       "      <th>4</th>\n",
       "      <td>5</td>\n",
       "      <td>Ben 10 Ultimate Alien: Cosmic Destruction</td>\n",
       "      <td>PS3</td>\n",
       "      <td>2010.0</td>\n",
       "      <td>Platform</td>\n",
       "      <td>D3Publisher</td>\n",
       "      <td>0.12</td>\n",
       "      <td>0.09</td>\n",
       "      <td>0</td>\n",
       "      <td>0.04</td>\n",
       "    </tr>\n",
       "    <tr>\n",
       "      <th>...</th>\n",
       "      <td>...</td>\n",
       "      <td>...</td>\n",
       "      <td>...</td>\n",
       "      <td>...</td>\n",
       "      <td>...</td>\n",
       "      <td>...</td>\n",
       "      <td>...</td>\n",
       "      <td>...</td>\n",
       "      <td>...</td>\n",
       "      <td>...</td>\n",
       "    </tr>\n",
       "    <tr>\n",
       "      <th>16593</th>\n",
       "      <td>16594</td>\n",
       "      <td>Ice Age 2: The Meltdown</td>\n",
       "      <td>GC</td>\n",
       "      <td>2006.0</td>\n",
       "      <td>Platform</td>\n",
       "      <td>Vivendi Games</td>\n",
       "      <td>0.15</td>\n",
       "      <td>0.04</td>\n",
       "      <td>0</td>\n",
       "      <td>0.01</td>\n",
       "    </tr>\n",
       "    <tr>\n",
       "      <th>16594</th>\n",
       "      <td>16595</td>\n",
       "      <td>Rainbow Islands: Revolution</td>\n",
       "      <td>PSP</td>\n",
       "      <td>2005.0</td>\n",
       "      <td>Action</td>\n",
       "      <td>Rising Star Games</td>\n",
       "      <td>0.01</td>\n",
       "      <td>0</td>\n",
       "      <td>0</td>\n",
       "      <td>0</td>\n",
       "    </tr>\n",
       "    <tr>\n",
       "      <th>16595</th>\n",
       "      <td>16596</td>\n",
       "      <td>NBA 2K16</td>\n",
       "      <td>PS3</td>\n",
       "      <td>2015.0</td>\n",
       "      <td>Sports</td>\n",
       "      <td>Take-Two Interactive</td>\n",
       "      <td>0.44</td>\n",
       "      <td>0.19</td>\n",
       "      <td>0.03</td>\n",
       "      <td>0.13</td>\n",
       "    </tr>\n",
       "    <tr>\n",
       "      <th>16596</th>\n",
       "      <td>16597</td>\n",
       "      <td>Toukiden: The Age of Demons</td>\n",
       "      <td>PSV</td>\n",
       "      <td>2013.0</td>\n",
       "      <td>Action</td>\n",
       "      <td>Tecmo Koei</td>\n",
       "      <td>0.05</td>\n",
       "      <td>0.05</td>\n",
       "      <td>0.25</td>\n",
       "      <td>0.03</td>\n",
       "    </tr>\n",
       "    <tr>\n",
       "      <th>16597</th>\n",
       "      <td>16598</td>\n",
       "      <td>The King of Fighters '95</td>\n",
       "      <td>PS</td>\n",
       "      <td>1996.0</td>\n",
       "      <td>Fighting</td>\n",
       "      <td>Sony Computer Entertainment</td>\n",
       "      <td>0</td>\n",
       "      <td>0</td>\n",
       "      <td>0.16</td>\n",
       "      <td>0.01</td>\n",
       "    </tr>\n",
       "  </tbody>\n",
       "</table>\n",
       "<p>16598 rows × 10 columns</p>\n",
       "</div>"
      ],
      "text/plain": [
       "       Unnamed: 0                                            Name Platform  \\\n",
       "0               1                    Candace Kane's Candy Factory       DS   \n",
       "1               2                                  The Munchables      Wii   \n",
       "2               3  Otome wa Oanesama Boku ni Koi Shiteru Portable      PSP   \n",
       "3               4                Deal or No Deal: Special Edition       DS   \n",
       "4               5       Ben 10 Ultimate Alien: Cosmic Destruction      PS3   \n",
       "...           ...                                             ...      ...   \n",
       "16593       16594                         Ice Age 2: The Meltdown       GC   \n",
       "16594       16595                     Rainbow Islands: Revolution      PSP   \n",
       "16595       16596                                        NBA 2K16      PS3   \n",
       "16596       16597                     Toukiden: The Age of Demons      PSV   \n",
       "16597       16598                        The King of Fighters '95       PS   \n",
       "\n",
       "         Year      Genre                    Publisher NA_Sales EU_Sales  \\\n",
       "0      2008.0     Action                    Destineer     0.04        0   \n",
       "1      2009.0     Action           Namco Bandai Games     0.17        0   \n",
       "2      2010.0  Adventure                    Alchemist        0        0   \n",
       "3      2010.0       Misc                    Zoo Games     0.04        0   \n",
       "4      2010.0   Platform                  D3Publisher     0.12     0.09   \n",
       "...       ...        ...                          ...      ...      ...   \n",
       "16593  2006.0   Platform                Vivendi Games     0.15     0.04   \n",
       "16594  2005.0     Action            Rising Star Games     0.01        0   \n",
       "16595  2015.0     Sports         Take-Two Interactive     0.44     0.19   \n",
       "16596  2013.0     Action                   Tecmo Koei     0.05     0.05   \n",
       "16597  1996.0   Fighting  Sony Computer Entertainment        0        0   \n",
       "\n",
       "      JP_Sales Other_Sales  \n",
       "0            0           0  \n",
       "1            0        0.01  \n",
       "2         0.02           0  \n",
       "3            0           0  \n",
       "4            0        0.04  \n",
       "...        ...         ...  \n",
       "16593        0        0.01  \n",
       "16594        0           0  \n",
       "16595     0.03        0.13  \n",
       "16596     0.25        0.03  \n",
       "16597     0.16        0.01  \n",
       "\n",
       "[16598 rows x 10 columns]"
      ]
     },
     "execution_count": 2,
     "metadata": {},
     "output_type": "execute_result"
    }
   ],
   "source": [
    "import pandas as pd\n",
    "df = pd.read_csv('./vgames2.csv')\n",
    "df"
   ]
  },
  {
   "cell_type": "markdown",
   "metadata": {},
   "source": [
    "---"
   ]
  },
  {
   "cell_type": "code",
   "execution_count": 3,
   "metadata": {},
   "outputs": [
    {
     "data": {
      "text/html": [
       "<div>\n",
       "<style scoped>\n",
       "    .dataframe tbody tr th:only-of-type {\n",
       "        vertical-align: middle;\n",
       "    }\n",
       "\n",
       "    .dataframe tbody tr th {\n",
       "        vertical-align: top;\n",
       "    }\n",
       "\n",
       "    .dataframe thead th {\n",
       "        text-align: right;\n",
       "    }\n",
       "</style>\n",
       "<table border=\"1\" class=\"dataframe\">\n",
       "  <thead>\n",
       "    <tr style=\"text-align: right;\">\n",
       "      <th></th>\n",
       "      <th>Name</th>\n",
       "      <th>Platform</th>\n",
       "      <th>Year</th>\n",
       "      <th>Genre</th>\n",
       "      <th>Publisher</th>\n",
       "      <th>NA_Sales</th>\n",
       "      <th>EU_Sales</th>\n",
       "      <th>JP_Sales</th>\n",
       "      <th>Other_Sales</th>\n",
       "    </tr>\n",
       "  </thead>\n",
       "  <tbody>\n",
       "    <tr>\n",
       "      <th>0</th>\n",
       "      <td>Candace Kane's Candy Factory</td>\n",
       "      <td>DS</td>\n",
       "      <td>2008.0</td>\n",
       "      <td>Action</td>\n",
       "      <td>Destineer</td>\n",
       "      <td>0.04</td>\n",
       "      <td>0</td>\n",
       "      <td>0</td>\n",
       "      <td>0</td>\n",
       "    </tr>\n",
       "    <tr>\n",
       "      <th>1</th>\n",
       "      <td>The Munchables</td>\n",
       "      <td>Wii</td>\n",
       "      <td>2009.0</td>\n",
       "      <td>Action</td>\n",
       "      <td>Namco Bandai Games</td>\n",
       "      <td>0.17</td>\n",
       "      <td>0</td>\n",
       "      <td>0</td>\n",
       "      <td>0.01</td>\n",
       "    </tr>\n",
       "    <tr>\n",
       "      <th>2</th>\n",
       "      <td>Otome wa Oanesama Boku ni Koi Shiteru Portable</td>\n",
       "      <td>PSP</td>\n",
       "      <td>2010.0</td>\n",
       "      <td>Adventure</td>\n",
       "      <td>Alchemist</td>\n",
       "      <td>0</td>\n",
       "      <td>0</td>\n",
       "      <td>0.02</td>\n",
       "      <td>0</td>\n",
       "    </tr>\n",
       "    <tr>\n",
       "      <th>3</th>\n",
       "      <td>Deal or No Deal: Special Edition</td>\n",
       "      <td>DS</td>\n",
       "      <td>2010.0</td>\n",
       "      <td>Misc</td>\n",
       "      <td>Zoo Games</td>\n",
       "      <td>0.04</td>\n",
       "      <td>0</td>\n",
       "      <td>0</td>\n",
       "      <td>0</td>\n",
       "    </tr>\n",
       "    <tr>\n",
       "      <th>4</th>\n",
       "      <td>Ben 10 Ultimate Alien: Cosmic Destruction</td>\n",
       "      <td>PS3</td>\n",
       "      <td>2010.0</td>\n",
       "      <td>Platform</td>\n",
       "      <td>D3Publisher</td>\n",
       "      <td>0.12</td>\n",
       "      <td>0.09</td>\n",
       "      <td>0</td>\n",
       "      <td>0.04</td>\n",
       "    </tr>\n",
       "    <tr>\n",
       "      <th>...</th>\n",
       "      <td>...</td>\n",
       "      <td>...</td>\n",
       "      <td>...</td>\n",
       "      <td>...</td>\n",
       "      <td>...</td>\n",
       "      <td>...</td>\n",
       "      <td>...</td>\n",
       "      <td>...</td>\n",
       "      <td>...</td>\n",
       "    </tr>\n",
       "    <tr>\n",
       "      <th>16593</th>\n",
       "      <td>Ice Age 2: The Meltdown</td>\n",
       "      <td>GC</td>\n",
       "      <td>2006.0</td>\n",
       "      <td>Platform</td>\n",
       "      <td>Vivendi Games</td>\n",
       "      <td>0.15</td>\n",
       "      <td>0.04</td>\n",
       "      <td>0</td>\n",
       "      <td>0.01</td>\n",
       "    </tr>\n",
       "    <tr>\n",
       "      <th>16594</th>\n",
       "      <td>Rainbow Islands: Revolution</td>\n",
       "      <td>PSP</td>\n",
       "      <td>2005.0</td>\n",
       "      <td>Action</td>\n",
       "      <td>Rising Star Games</td>\n",
       "      <td>0.01</td>\n",
       "      <td>0</td>\n",
       "      <td>0</td>\n",
       "      <td>0</td>\n",
       "    </tr>\n",
       "    <tr>\n",
       "      <th>16595</th>\n",
       "      <td>NBA 2K16</td>\n",
       "      <td>PS3</td>\n",
       "      <td>2015.0</td>\n",
       "      <td>Sports</td>\n",
       "      <td>Take-Two Interactive</td>\n",
       "      <td>0.44</td>\n",
       "      <td>0.19</td>\n",
       "      <td>0.03</td>\n",
       "      <td>0.13</td>\n",
       "    </tr>\n",
       "    <tr>\n",
       "      <th>16596</th>\n",
       "      <td>Toukiden: The Age of Demons</td>\n",
       "      <td>PSV</td>\n",
       "      <td>2013.0</td>\n",
       "      <td>Action</td>\n",
       "      <td>Tecmo Koei</td>\n",
       "      <td>0.05</td>\n",
       "      <td>0.05</td>\n",
       "      <td>0.25</td>\n",
       "      <td>0.03</td>\n",
       "    </tr>\n",
       "    <tr>\n",
       "      <th>16597</th>\n",
       "      <td>The King of Fighters '95</td>\n",
       "      <td>PS</td>\n",
       "      <td>1996.0</td>\n",
       "      <td>Fighting</td>\n",
       "      <td>Sony Computer Entertainment</td>\n",
       "      <td>0</td>\n",
       "      <td>0</td>\n",
       "      <td>0.16</td>\n",
       "      <td>0.01</td>\n",
       "    </tr>\n",
       "  </tbody>\n",
       "</table>\n",
       "<p>16598 rows × 9 columns</p>\n",
       "</div>"
      ],
      "text/plain": [
       "                                                 Name Platform    Year  \\\n",
       "0                        Candace Kane's Candy Factory       DS  2008.0   \n",
       "1                                      The Munchables      Wii  2009.0   \n",
       "2      Otome wa Oanesama Boku ni Koi Shiteru Portable      PSP  2010.0   \n",
       "3                    Deal or No Deal: Special Edition       DS  2010.0   \n",
       "4           Ben 10 Ultimate Alien: Cosmic Destruction      PS3  2010.0   \n",
       "...                                               ...      ...     ...   \n",
       "16593                         Ice Age 2: The Meltdown       GC  2006.0   \n",
       "16594                     Rainbow Islands: Revolution      PSP  2005.0   \n",
       "16595                                        NBA 2K16      PS3  2015.0   \n",
       "16596                     Toukiden: The Age of Demons      PSV  2013.0   \n",
       "16597                        The King of Fighters '95       PS  1996.0   \n",
       "\n",
       "           Genre                    Publisher NA_Sales EU_Sales JP_Sales  \\\n",
       "0         Action                    Destineer     0.04        0        0   \n",
       "1         Action           Namco Bandai Games     0.17        0        0   \n",
       "2      Adventure                    Alchemist        0        0     0.02   \n",
       "3           Misc                    Zoo Games     0.04        0        0   \n",
       "4       Platform                  D3Publisher     0.12     0.09        0   \n",
       "...          ...                          ...      ...      ...      ...   \n",
       "16593   Platform                Vivendi Games     0.15     0.04        0   \n",
       "16594     Action            Rising Star Games     0.01        0        0   \n",
       "16595     Sports         Take-Two Interactive     0.44     0.19     0.03   \n",
       "16596     Action                   Tecmo Koei     0.05     0.05     0.25   \n",
       "16597   Fighting  Sony Computer Entertainment        0        0     0.16   \n",
       "\n",
       "      Other_Sales  \n",
       "0               0  \n",
       "1            0.01  \n",
       "2               0  \n",
       "3               0  \n",
       "4            0.04  \n",
       "...           ...  \n",
       "16593        0.01  \n",
       "16594           0  \n",
       "16595        0.13  \n",
       "16596        0.03  \n",
       "16597        0.01  \n",
       "\n",
       "[16598 rows x 9 columns]"
      ]
     },
     "execution_count": 3,
     "metadata": {},
     "output_type": "execute_result"
    }
   ],
   "source": [
    "del df['Unnamed: 0']\n",
    "df"
   ]
  },
  {
   "cell_type": "code",
   "execution_count": 4,
   "metadata": {},
   "outputs": [
    {
     "data": {
      "text/plain": [
       "Name            object\n",
       "Platform        object\n",
       "Year           float64\n",
       "Genre           object\n",
       "Publisher       object\n",
       "NA_Sales        object\n",
       "EU_Sales        object\n",
       "JP_Sales        object\n",
       "Other_Sales     object\n",
       "dtype: object"
      ]
     },
     "execution_count": 4,
     "metadata": {},
     "output_type": "execute_result"
    }
   ],
   "source": [
    "df.dtypes"
   ]
  },
  {
   "cell_type": "markdown",
   "metadata": {},
   "source": [
    "### 매출액에 관련된 피쳐들을 numeric형식으로 바꿔야겠다고 판단"
   ]
  },
  {
   "cell_type": "code",
   "execution_count": 5,
   "metadata": {},
   "outputs": [
    {
     "name": "stderr",
     "output_type": "stream",
     "text": [
      "<ipython-input-5-df9edf454017>:9: SettingWithCopyWarning: \n",
      "A value is trying to be set on a copy of a slice from a DataFrame\n",
      "\n",
      "See the caveats in the documentation: https://pandas.pydata.org/pandas-docs/stable/user_guide/indexing.html#returning-a-view-versus-a-copy\n",
      "  df[k][i] = int(float(df[k][i])*1000000)\n",
      "<ipython-input-5-df9edf454017>:5: SettingWithCopyWarning: \n",
      "A value is trying to be set on a copy of a slice from a DataFrame\n",
      "\n",
      "See the caveats in the documentation: https://pandas.pydata.org/pandas-docs/stable/user_guide/indexing.html#returning-a-view-versus-a-copy\n",
      "  df[k][i] = int(float(df[k][i][:-1])*1000)\n",
      "<ipython-input-5-df9edf454017>:7: SettingWithCopyWarning: \n",
      "A value is trying to be set on a copy of a slice from a DataFrame\n",
      "\n",
      "See the caveats in the documentation: https://pandas.pydata.org/pandas-docs/stable/user_guide/indexing.html#returning-a-view-versus-a-copy\n",
      "  df[k][i] = int(float(df[k][i][:-1])*1000000)\n"
     ]
    }
   ],
   "source": [
    "for k in (\"NA_Sales\",\"EU_Sales\",\"JP_Sales\",\"Other_Sales\"):\n",
    "\n",
    "    for i in range(len(df[k])):\n",
    "        if 'K' in df[k][i]:\n",
    "            df[k][i] = int(float(df[k][i][:-1])*1000)\n",
    "        elif 'M' in df[k][i]:\n",
    "            df[k][i] = int(float(df[k][i][:-1])*1000000)\n",
    "        else:\n",
    "            df[k][i] = int(float(df[k][i])*1000000)"
   ]
  },
  {
   "cell_type": "code",
   "execution_count": 6,
   "metadata": {},
   "outputs": [
    {
     "data": {
      "text/plain": [
       "Name            object\n",
       "Platform        object\n",
       "Year           float64\n",
       "Genre           object\n",
       "Publisher       object\n",
       "NA_Sales         int64\n",
       "EU_Sales         int64\n",
       "JP_Sales         int64\n",
       "Other_Sales      int64\n",
       "dtype: object"
      ]
     },
     "execution_count": 6,
     "metadata": {},
     "output_type": "execute_result"
    }
   ],
   "source": [
    "for k in (\"NA_Sales\",\"EU_Sales\",\"JP_Sales\",\"Other_Sales\"):\n",
    "    df[k] = pd.to_numeric(df[k])\n",
    "df.dtypes"
   ]
  },
  {
   "cell_type": "code",
   "execution_count": 7,
   "metadata": {},
   "outputs": [
    {
     "data": {
      "text/plain": [
       "Name           0.000000\n",
       "Platform       0.000000\n",
       "Year           1.632727\n",
       "Genre          0.301241\n",
       "Publisher      0.349440\n",
       "NA_Sales       0.000000\n",
       "EU_Sales       0.000000\n",
       "JP_Sales       0.000000\n",
       "Other_Sales    0.000000\n",
       "dtype: float64"
      ]
     },
     "execution_count": 7,
     "metadata": {},
     "output_type": "execute_result"
    }
   ],
   "source": [
    "(df.isnull().sum() / len(df)) * 100"
   ]
  },
  {
   "cell_type": "markdown",
   "metadata": {},
   "source": [
    "### 매출액 관련데이터 외에만 고려해서, null값의 비율이 크지 않기때문에 제외하고 분석을 진행할 예정\n",
    "### 매출액의 0원도 null값으로 판단되나, 그 지역에서 발매하지 않거나 등의 이슈가 있을거라 판단돼 따로 처리하지 않을 예정"
   ]
  },
  {
   "cell_type": "code",
   "execution_count": 8,
   "metadata": {},
   "outputs": [
    {
     "data": {
      "text/plain": [
       "(16241, 9)"
      ]
     },
     "execution_count": 8,
     "metadata": {},
     "output_type": "execute_result"
    }
   ],
   "source": [
    "df = df.dropna(axis=0)\n",
    "df.shape"
   ]
  },
  {
   "cell_type": "markdown",
   "metadata": {},
   "source": [
    "---"
   ]
  },
  {
   "cell_type": "code",
   "execution_count": 9,
   "metadata": {},
   "outputs": [
    {
     "data": {
      "text/html": [
       "<div>\n",
       "<style scoped>\n",
       "    .dataframe tbody tr th:only-of-type {\n",
       "        vertical-align: middle;\n",
       "    }\n",
       "\n",
       "    .dataframe tbody tr th {\n",
       "        vertical-align: top;\n",
       "    }\n",
       "\n",
       "    .dataframe thead th {\n",
       "        text-align: right;\n",
       "    }\n",
       "</style>\n",
       "<table border=\"1\" class=\"dataframe\">\n",
       "  <thead>\n",
       "    <tr style=\"text-align: right;\">\n",
       "      <th></th>\n",
       "      <th>Name</th>\n",
       "      <th>Platform</th>\n",
       "      <th>Year</th>\n",
       "      <th>Genre</th>\n",
       "      <th>Publisher</th>\n",
       "      <th>NA_Sales</th>\n",
       "      <th>EU_Sales</th>\n",
       "      <th>JP_Sales</th>\n",
       "      <th>Other_Sales</th>\n",
       "    </tr>\n",
       "  </thead>\n",
       "  <tbody>\n",
       "    <tr>\n",
       "      <th>0</th>\n",
       "      <td>Candace Kane's Candy Factory</td>\n",
       "      <td>DS</td>\n",
       "      <td>2008.0</td>\n",
       "      <td>Action</td>\n",
       "      <td>Destineer</td>\n",
       "      <td>40000</td>\n",
       "      <td>0</td>\n",
       "      <td>0</td>\n",
       "      <td>0</td>\n",
       "    </tr>\n",
       "    <tr>\n",
       "      <th>1</th>\n",
       "      <td>The Munchables</td>\n",
       "      <td>Wii</td>\n",
       "      <td>2009.0</td>\n",
       "      <td>Action</td>\n",
       "      <td>Namco Bandai Games</td>\n",
       "      <td>170000</td>\n",
       "      <td>0</td>\n",
       "      <td>0</td>\n",
       "      <td>10000</td>\n",
       "    </tr>\n",
       "    <tr>\n",
       "      <th>2</th>\n",
       "      <td>Otome wa Oanesama Boku ni Koi Shiteru Portable</td>\n",
       "      <td>PSP</td>\n",
       "      <td>2010.0</td>\n",
       "      <td>Adventure</td>\n",
       "      <td>Alchemist</td>\n",
       "      <td>0</td>\n",
       "      <td>0</td>\n",
       "      <td>20000</td>\n",
       "      <td>0</td>\n",
       "    </tr>\n",
       "    <tr>\n",
       "      <th>3</th>\n",
       "      <td>Deal or No Deal: Special Edition</td>\n",
       "      <td>DS</td>\n",
       "      <td>2010.0</td>\n",
       "      <td>Misc</td>\n",
       "      <td>Zoo Games</td>\n",
       "      <td>40000</td>\n",
       "      <td>0</td>\n",
       "      <td>0</td>\n",
       "      <td>0</td>\n",
       "    </tr>\n",
       "    <tr>\n",
       "      <th>4</th>\n",
       "      <td>Ben 10 Ultimate Alien: Cosmic Destruction</td>\n",
       "      <td>PS3</td>\n",
       "      <td>2010.0</td>\n",
       "      <td>Platform</td>\n",
       "      <td>D3Publisher</td>\n",
       "      <td>120000</td>\n",
       "      <td>90000</td>\n",
       "      <td>0</td>\n",
       "      <td>40000</td>\n",
       "    </tr>\n",
       "    <tr>\n",
       "      <th>...</th>\n",
       "      <td>...</td>\n",
       "      <td>...</td>\n",
       "      <td>...</td>\n",
       "      <td>...</td>\n",
       "      <td>...</td>\n",
       "      <td>...</td>\n",
       "      <td>...</td>\n",
       "      <td>...</td>\n",
       "      <td>...</td>\n",
       "    </tr>\n",
       "    <tr>\n",
       "      <th>16593</th>\n",
       "      <td>Ice Age 2: The Meltdown</td>\n",
       "      <td>GC</td>\n",
       "      <td>2006.0</td>\n",
       "      <td>Platform</td>\n",
       "      <td>Vivendi Games</td>\n",
       "      <td>150000</td>\n",
       "      <td>40000</td>\n",
       "      <td>0</td>\n",
       "      <td>10000</td>\n",
       "    </tr>\n",
       "    <tr>\n",
       "      <th>16594</th>\n",
       "      <td>Rainbow Islands: Revolution</td>\n",
       "      <td>PSP</td>\n",
       "      <td>2005.0</td>\n",
       "      <td>Action</td>\n",
       "      <td>Rising Star Games</td>\n",
       "      <td>10000</td>\n",
       "      <td>0</td>\n",
       "      <td>0</td>\n",
       "      <td>0</td>\n",
       "    </tr>\n",
       "    <tr>\n",
       "      <th>16595</th>\n",
       "      <td>NBA 2K16</td>\n",
       "      <td>PS3</td>\n",
       "      <td>2015.0</td>\n",
       "      <td>Sports</td>\n",
       "      <td>Take-Two Interactive</td>\n",
       "      <td>440000</td>\n",
       "      <td>190000</td>\n",
       "      <td>30000</td>\n",
       "      <td>130000</td>\n",
       "    </tr>\n",
       "    <tr>\n",
       "      <th>16596</th>\n",
       "      <td>Toukiden: The Age of Demons</td>\n",
       "      <td>PSV</td>\n",
       "      <td>2013.0</td>\n",
       "      <td>Action</td>\n",
       "      <td>Tecmo Koei</td>\n",
       "      <td>50000</td>\n",
       "      <td>50000</td>\n",
       "      <td>250000</td>\n",
       "      <td>30000</td>\n",
       "    </tr>\n",
       "    <tr>\n",
       "      <th>16597</th>\n",
       "      <td>The King of Fighters '95</td>\n",
       "      <td>PS</td>\n",
       "      <td>1996.0</td>\n",
       "      <td>Fighting</td>\n",
       "      <td>Sony Computer Entertainment</td>\n",
       "      <td>0</td>\n",
       "      <td>0</td>\n",
       "      <td>160000</td>\n",
       "      <td>10000</td>\n",
       "    </tr>\n",
       "  </tbody>\n",
       "</table>\n",
       "<p>16241 rows × 9 columns</p>\n",
       "</div>"
      ],
      "text/plain": [
       "                                                 Name Platform    Year  \\\n",
       "0                        Candace Kane's Candy Factory       DS  2008.0   \n",
       "1                                      The Munchables      Wii  2009.0   \n",
       "2      Otome wa Oanesama Boku ni Koi Shiteru Portable      PSP  2010.0   \n",
       "3                    Deal or No Deal: Special Edition       DS  2010.0   \n",
       "4           Ben 10 Ultimate Alien: Cosmic Destruction      PS3  2010.0   \n",
       "...                                               ...      ...     ...   \n",
       "16593                         Ice Age 2: The Meltdown       GC  2006.0   \n",
       "16594                     Rainbow Islands: Revolution      PSP  2005.0   \n",
       "16595                                        NBA 2K16      PS3  2015.0   \n",
       "16596                     Toukiden: The Age of Demons      PSV  2013.0   \n",
       "16597                        The King of Fighters '95       PS  1996.0   \n",
       "\n",
       "           Genre                    Publisher  NA_Sales  EU_Sales  JP_Sales  \\\n",
       "0         Action                    Destineer     40000         0         0   \n",
       "1         Action           Namco Bandai Games    170000         0         0   \n",
       "2      Adventure                    Alchemist         0         0     20000   \n",
       "3           Misc                    Zoo Games     40000         0         0   \n",
       "4       Platform                  D3Publisher    120000     90000         0   \n",
       "...          ...                          ...       ...       ...       ...   \n",
       "16593   Platform                Vivendi Games    150000     40000         0   \n",
       "16594     Action            Rising Star Games     10000         0         0   \n",
       "16595     Sports         Take-Two Interactive    440000    190000     30000   \n",
       "16596     Action                   Tecmo Koei     50000     50000    250000   \n",
       "16597   Fighting  Sony Computer Entertainment         0         0    160000   \n",
       "\n",
       "       Other_Sales  \n",
       "0                0  \n",
       "1            10000  \n",
       "2                0  \n",
       "3                0  \n",
       "4            40000  \n",
       "...            ...  \n",
       "16593        10000  \n",
       "16594            0  \n",
       "16595       130000  \n",
       "16596        30000  \n",
       "16597        10000  \n",
       "\n",
       "[16241 rows x 9 columns]"
      ]
     },
     "execution_count": 9,
     "metadata": {},
     "output_type": "execute_result"
    }
   ],
   "source": [
    "df"
   ]
  },
  {
   "cell_type": "markdown",
   "metadata": {},
   "source": [
    "---"
   ]
  },
  {
   "cell_type": "markdown",
   "metadata": {},
   "source": [
    "### 어떤 피쳐를 기준으로 나눌 수 있을까?\n",
    "#### 아래의 두 피쳐가 가장 가능성이 있다고 판단하였고, 그중 Genre일 것이라 생각"
   ]
  },
  {
   "cell_type": "code",
   "execution_count": 10,
   "metadata": {},
   "outputs": [
    {
     "data": {
      "text/plain": [
       "array(['DS', 'Wii', 'PSP', 'PS3', 'PC', 'PS', 'GBA', 'PS4', 'PS2', 'XB',\n",
       "       'X360', 'GC', '3DS', '2600', 'SAT', 'GB', 'NES', 'DC', 'N64',\n",
       "       'XOne', 'SNES', 'WiiU', 'PSV', 'GEN', 'SCD', 'WS', 'NG', 'TG16',\n",
       "       '3DO', 'GG', 'PCFX'], dtype=object)"
      ]
     },
     "execution_count": 10,
     "metadata": {},
     "output_type": "execute_result"
    }
   ],
   "source": [
    "df['Platform'].unique()"
   ]
  },
  {
   "cell_type": "code",
   "execution_count": 11,
   "metadata": {},
   "outputs": [
    {
     "data": {
      "text/plain": [
       "array(['Action', 'Adventure', 'Misc', 'Platform', 'Sports', 'Simulation',\n",
       "       'Racing', 'Role-Playing', 'Puzzle', 'Strategy', 'Fighting',\n",
       "       'Shooter'], dtype=object)"
      ]
     },
     "execution_count": 11,
     "metadata": {},
     "output_type": "execute_result"
    }
   ],
   "source": [
    "df['Genre'].unique()"
   ]
  },
  {
   "cell_type": "markdown",
   "metadata": {},
   "source": [
    "---"
   ]
  },
  {
   "cell_type": "code",
   "execution_count": 12,
   "metadata": {},
   "outputs": [
    {
     "name": "stderr",
     "output_type": "stream",
     "text": [
      "<ipython-input-12-0c12794cf08d>:1: SettingWithCopyWarning: \n",
      "A value is trying to be set on a copy of a slice from a DataFrame.\n",
      "Try using .loc[row_indexer,col_indexer] = value instead\n",
      "\n",
      "See the caveats in the documentation: https://pandas.pydata.org/pandas-docs/stable/user_guide/indexing.html#returning-a-view-versus-a-copy\n",
      "  df['Genre'] = df['Genre'].astype(\"category\")\n"
     ]
    }
   ],
   "source": [
    "df['Genre'] = df['Genre'].astype(\"category\")"
   ]
  },
  {
   "cell_type": "code",
   "execution_count": 13,
   "metadata": {},
   "outputs": [
    {
     "data": {
      "image/png": "[encoded data removed]",
      "text/plain": [
       "<Figure size 432x288 with 1 Axes>"
      ]
     },
     "metadata": {
      "needs_background": "light"
     },
     "output_type": "display_data"
    }
   ],
   "source": [
    "G_df = df[['Genre','NA_Sales','EU_Sales','JP_Sales','Other_Sales']]\n",
    "G_df = G_df.groupby('Genre').sum() \n",
    "G_df.plot(kind='bar')\n",
    "plt.xlabel('Sales')\n",
    "plt.ylabel('Genre')\n",
    "plt.show()"
   ]
  },
  {
   "cell_type": "markdown",
   "metadata": {},
   "source": [
    "#### 전체적으로 매출액을 비교해볼 수 있을 것 같다.\n",
    "\n",
    "####하지만 지역별로 매출액의 규모자체가 차이나기때문에 한눈에 이해하기에는 조금 힘들다고 판단\n",
    "####지역별로 나눠서 시각화를 해보자"
   ]
  },
  {
   "cell_type": "code",
   "execution_count": 14,
   "metadata": {},
   "outputs": [
    {
     "data": {
      "text/plain": [
       "<function matplotlib.pyplot.show(close=None, block=None)>"
      ]
     },
     "execution_count": 14,
     "metadata": {},
     "output_type": "execute_result"
    },
    {
     "data": {
      "image/png": "[encoded data removed]",
      "text/plain": [
       "<Figure size 1728x720 with 4 Axes>"
      ]
     },
     "metadata": {
      "needs_background": "light"
     },
     "output_type": "display_data"
    }
   ],
   "source": [
    "fig, axes = plt.subplots(nrows=2,ncols=2)\n",
    "fig.set_size_inches(24,10)\n",
    "axes[0][0].bar(df['Genre'], df['NA_Sales'])\n",
    "axes[0][1].bar(df['Genre'], df['EU_Sales'])\n",
    "axes[1][0].bar(df['Genre'], df['JP_Sales'])\n",
    "axes[1][1].bar(df['Genre'], df['Other_Sales'])\n",
    "plt.show"
   ]
  },
  {
   "cell_type": "markdown",
   "metadata": {},
   "source": [
    "---"
   ]
  },
  {
   "cell_type": "markdown",
   "metadata": {},
   "source": [
    "### 연도별로 매출액의 차이는 있을까? "
   ]
  },
  {
   "cell_type": "code",
   "execution_count": 15,
   "metadata": {},
   "outputs": [
    {
     "name": "stderr",
     "output_type": "stream",
     "text": [
      "<ipython-input-15-edfee6e64646>:11: SettingWithCopyWarning: \n",
      "A value is trying to be set on a copy of a slice from a DataFrame\n",
      "\n",
      "See the caveats in the documentation: https://pandas.pydata.org/pandas-docs/stable/user_guide/indexing.html#returning-a-view-versus-a-copy\n",
      "  df['Year'][i] = int('200'+str(df['Year'][i]))\n",
      "<ipython-input-15-edfee6e64646>:8: SettingWithCopyWarning: \n",
      "A value is trying to be set on a copy of a slice from a DataFrame\n",
      "\n",
      "See the caveats in the documentation: https://pandas.pydata.org/pandas-docs/stable/user_guide/indexing.html#returning-a-view-versus-a-copy\n",
      "  df['Year'][i] = int('19'+str(df['Year'][i]))\n",
      "<ipython-input-15-edfee6e64646>:13: SettingWithCopyWarning: \n",
      "A value is trying to be set on a copy of a slice from a DataFrame\n",
      "\n",
      "See the caveats in the documentation: https://pandas.pydata.org/pandas-docs/stable/user_guide/indexing.html#returning-a-view-versus-a-copy\n",
      "  df['Year'][i] = int('20'+str(df['Year'][i]))\n"
     ]
    },
    {
     "data": {
      "text/plain": [
       "array([2008, 2009, 2010, 2005, 2011, 2007, 2001, 2003, 2006, 2014, 2015,\n",
       "       2002, 1997, 2013, 1996, 2004, 2000, 1984, 1998, 2016, 1985, 1999,\n",
       "       1995, 1993, 2012, 1987, 1982, 1994, 1990, 1992, 1991, 1983, 1988,\n",
       "       1981, 1989, 1986, 2017, 1980, 2020])"
      ]
     },
     "execution_count": 15,
     "metadata": {},
     "output_type": "execute_result"
    }
   ],
   "source": [
    "df = df.reset_index()\n",
    "del df['index']\n",
    "df['Year'] = df['Year'].astype(int)\n",
    "\n",
    "for i in range(len(df['Year'])):\n",
    "    if df['Year'][i]<100:\n",
    "        if df['Year'][i]>20:\n",
    "            df['Year'][i] = int('19'+str(df['Year'][i]))\n",
    "        else:\n",
    "            if df['Year'][i]<10:\n",
    "                df['Year'][i] = int('200'+str(df['Year'][i]))\n",
    "            else:\n",
    "                df['Year'][i] = int('20'+str(df['Year'][i]))\n",
    "            \n",
    "df['Year'].unique()"
   ]
  },
  {
   "cell_type": "code",
   "execution_count": 17,
   "metadata": {},
   "outputs": [
    {
     "data": {
      "image/png": "[encoded data removed]",
      "text/plain": [
       "<Figure size 432x288 with 1 Axes>"
      ]
     },
     "metadata": {
      "needs_background": "light"
     },
     "output_type": "display_data"
    }
   ],
   "source": [
    "Y_df = df[['Year','NA_Sales','EU_Sales','JP_Sales','Other_Sales']]\n",
    "Y_df = Y_df.groupby('Year').sum() \n",
    "Y_df.plot()\n",
    "plt.xlabel('Sum')\n",
    "plt.ylabel('Year')\n",
    "plt.show()"
   ]
  },
  {
   "cell_type": "code",
   "execution_count": null,
   "metadata": {},
   "outputs": [],
   "source": []
  },
  {
   "cell_type": "code",
   "execution_count": null,
   "metadata": {},
   "outputs": [],
   "source": []
  },
  {
   "cell_type": "code",
   "execution_count": null,
   "metadata": {},
   "outputs": [],
   "source": []
  }
 ],
 "metadata": {
  "kernelspec": {
   "display_name": "Python 3",
   "language": "python",
   "name": "python3"
  },
  "language_info": {
   "codemirror_mode": {
    "name": "ipython",
    "version": 3
   },
   "file_extension": ".py",
   "mimetype": "text/x-python",
   "name": "python",
   "nbconvert_exporter": "python",
   "pygments_lexer": "ipython3",
   "version": "3.8.3"
  }
 },
 "nbformat": 4,
 "nbformat_minor": 4
}
